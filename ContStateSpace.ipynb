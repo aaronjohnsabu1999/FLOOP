{
 "cells": [
  {
   "cell_type": "code",
   "execution_count": 7,
   "metadata": {
    "collapsed": false
   },
   "outputs": [
    {
     "name": "stdout",
     "output_type": "stream",
     "text": [
      "Import successful: sim.jl\n",
      "Import successful: floopMap.jl\n"
     ]
    }
   ],
   "source": [
    "include(\"sim.jl\"); #include the simulator \n",
    "include(\"floopMap.jl\") #include mapping"
   ]
  },
  {
   "cell_type": "code",
   "execution_count": 8,
   "metadata": {
    "collapsed": false,
    "scrolled": true
   },
   "outputs": [
    {
     "data": {
      "text/plain": [
       "0.1"
      ]
     },
     "execution_count": 8,
     "metadata": {},
     "output_type": "execute_result"
    }
   ],
   "source": [
    "nSeg=5 #number of segments\n",
    "aStep=3 #angle step \n",
    "aLimit=60\n",
    "res=10 #resolution of segment \n",
    "l=1/res #set subsegment lenght so that segment lenght =1\n"
   ]
  },
  {
   "cell_type": "code",
   "execution_count": 1,
   "metadata": {
    "collapsed": false
   },
   "outputs": [
    {
     "data": {
      "text/plain": [
       "0.3"
      ]
     },
     "execution_count": 1,
     "metadata": {},
     "output_type": "execute_result"
    }
   ],
   "source": [
    "### Begin continuous state space code\n",
    "# s: 5 element column vector of joint angles\n",
    "# a: 5 element column vector of action on each segment -> currently a[i] ∈ {-1, 0, 1}\n",
    "# w: currently 9 element column vector of weights for value approximation\n",
    "\n",
    "BasisSize = 9\n",
    "\n",
    "global GoalPos, GoalThresh\n",
    "GoalPos = [4.5,1]\n",
    "GoalThresh = 0.3"
   ]
  },
  {
   "cell_type": "code",
   "execution_count": 16,
   "metadata": {
    "collapsed": false
   },
   "outputs": [
    {
     "data": {
      "text/plain": [
       "ContReward (generic function with 1 method)"
      ]
     },
     "execution_count": 16,
     "metadata": {},
     "output_type": "execute_result"
    }
   ],
   "source": [
    "function ContReward(s)\n",
    "    \n",
    "    eDec = 2 # exponential decay factor in the goal proximity\n",
    "    \n",
    "    EEpos = ccQuick(map(deg2rad, s), 1)[end,:]\n",
    "    goalDist = norm(GoalPos - EEpos')\n",
    "    \n",
    "    (goalDist < GoalThresh) ? r = 1000 : r = 0\n",
    "    #(goalDist < GoalThresh) ? r = 1000 : r = exp(-eDec*goalDist) # if within threshold of goal, return full reward. Otherwise, return negative exponential of distance to goal\n",
    "    return r\n",
    "end"
   ]
  },
  {
   "cell_type": "code",
   "execution_count": 3,
   "metadata": {
    "collapsed": false
   },
   "outputs": [
    {
     "data": {
      "text/plain": [
       "ContTrans (generic function with 1 method)"
      ]
     },
     "execution_count": 3,
     "metadata": {},
     "output_type": "execute_result"
    }
   ],
   "source": [
    "function ContTrans(s,a)\n",
    "    #currently deterministic, finite action space\n",
    "    return s + a #can make this probabilistic by sampling from distribution\n",
    "end"
   ]
  },
  {
   "cell_type": "code",
   "execution_count": 4,
   "metadata": {
    "collapsed": false
   },
   "outputs": [
    {
     "data": {
      "text/plain": [
       "ValApprox (generic function with 1 method)"
      ]
     },
     "execution_count": 4,
     "metadata": {},
     "output_type": "execute_result"
    }
   ],
   "source": [
    "function ValApprox(w, s)\n",
    "    # features: EEpos, goalDist, s, const. (currently 10 elements) -> add ObstDist when obstacles added. And other bases?\n",
    "    return sum(w.*BasisFun(s))\n",
    "end"
   ]
  },
  {
   "cell_type": "code",
   "execution_count": 5,
   "metadata": {
    "collapsed": false
   },
   "outputs": [
    {
     "data": {
      "text/plain": [
       "BasisFun (generic function with 1 method)"
      ]
     },
     "execution_count": 5,
     "metadata": {},
     "output_type": "execute_result"
    }
   ],
   "source": [
    "function BasisFun(s)\n",
    "    \n",
    "    EEpos = ccQuick(map(deg2rad, s'), 1)[end,:]\n",
    "    goalDist = norm(GoalPos' - EEpos)\n",
    "    return [EEpos'; goalDist; s'; 1]\n",
    "    \n",
    "end"
   ]
  },
  {
   "cell_type": "code",
   "execution_count": 23,
   "metadata": {
    "collapsed": false
   },
   "outputs": [
    {
     "name": "stdout",
     "output_type": "stream",
     "text": [
      "304.19605187698176\n",
      "292.22871483952525\n",
      "280.5416800167654\n",
      "269.13233545646216\n",
      "257.99534633429295\n",
      "247.12967725893438\n",
      "236.53319591550058\n",
      "226.19740443176815\n",
      "216.11349467172352\n",
      "206.28657085075452\n",
      "196.71480524245015\n",
      "187.40336149834067\n",
      "178.34571127357322\n",
      "169.5503702156268\n",
      "161.0207784543575\n",
      "152.75175447481826\n",
      "144.74280787586466\n",
      "136.98684564062955\n",
      "129.48752221586167\n",
      "122.22906974265184\n",
      "115.21721822242824\n",
      "108.45693714725124\n",
      "101.93244819242669\n",
      "95.63890495014769\n",
      "89.58814487464886\n",
      "83.77010373849795\n",
      "78.189920661094\n",
      "72.8446402549841\n",
      "67.73846373511307\n",
      "62.8653198198259\n",
      "58.218020346401886\n",
      "53.7943528858116\n",
      "49.58468611616784\n",
      "45.58725886244886\n",
      "41.80262105684926\n",
      "38.2227602604163\n",
      "34.84500901892154\n",
      "31.66216249029199\n",
      "28.668943864535645\n",
      "25.860981324916793\n",
      "23.234062875595846\n",
      "20.782522891737496\n",
      "18.50669043682231\n",
      "16.40517813923911\n",
      "14.472695700604104\n",
      "12.71248109921445\n",
      "11.130208197999854\n",
      "9.72998811024342\n",
      "8.520740217865649\n",
      "7.516678635163341\n"
     ]
    }
   ],
   "source": [
    "m = 1000 # number of state samples\n",
    "w = zeros(BasisSize) #initialize weights\n",
    "aSize = 243 #number of possible actions\n",
    "kMax = 1 # number of samples of probabilistic transition - currently 1 because deterministic transition\n",
    "γ = 0.95 # learning rate\n",
    "y = zeros(m)\n",
    "action = [0 0 0 0 0]\n",
    "#println(size(w))\n",
    "#println(size(action))\n",
    "\n",
    "stateMat = zeros(m,5)\n",
    "for i = 1:m # set up this way so can change state initialization based on trajectory following\n",
    "    stateMat[i, :] = [rand(-90:90) rand(-90:90) rand(-90:90) rand(-90:90) rand(-90:90)]\n",
    "end\n",
    "\n",
    "for iters = 1:50\n",
    "\n",
    "    A = zeros(m,BasisSize)\n",
    "\n",
    "    for i = 1:m\n",
    "    \n",
    "        q = zeros(aSize)\n",
    "        state = stateMat[i,:]\n",
    "        A[i,:] = BasisFun(state)\n",
    "\n",
    "        for j = 1:aSize\n",
    "            action[1],action[2],action[3],action[4],action[5] = ind2sub((3,3,3,3,3),j)\n",
    "            action -=2\n",
    "            for k = 1:kMax\n",
    "                #println(ContReward(state))\n",
    "                #println(ValApprox(w,ContTrans(state,action)))\n",
    "                #println(w)\n",
    "                q[j] += (ContReward(state) + γ*ValApprox(w,ContTrans(state,action)))/kMax\n",
    "                #println(\"ok\")\n",
    "            end\n",
    "        end\n",
    "\n",
    "        y[i] = maximum(q)\n",
    "    \n",
    "    end\n",
    "\n",
    "    wp = (pinv(A)*y)\n",
    "    println(norm(wp - w))\n",
    "    w = wp\n",
    "end\n",
    "    \n"
   ]
  },
  {
   "cell_type": "code",
   "execution_count": 24,
   "metadata": {
    "collapsed": false
   },
   "outputs": [
    {
     "data": {
      "text/plain": [
       "9-element Array{Float64,1}:\n",
       " -260.825   \n",
       "  -37.8074  \n",
       " -878.963   \n",
       "   -2.7603  \n",
       "   -0.434771\n",
       "   -1.08116 \n",
       "   -0.550434\n",
       "    0.140979\n",
       " 5433.12    "
      ]
     },
     "execution_count": 24,
     "metadata": {},
     "output_type": "execute_result"
    }
   ],
   "source": [
    "w"
   ]
  },
  {
   "cell_type": "code",
   "execution_count": 25,
   "metadata": {
    "collapsed": false
   },
   "outputs": [
    {
     "name": "stdout",
     "output_type": "stream",
     "text": [
      "3.5870400337864488\n",
      "3.4009793389790994\n",
      "3.214357215677537\n",
      "3.0275456057884007\n",
      "2.840945919613893\n",
      "2.6549982851995386\n",
      "2.470194676054345\n",
      "2.287097755161524\n",
      "2.106368258068964\n",
      "1.9288052766514427\n",
      "1.7554061632131377\n",
      "1.587456191830564\n",
      "1.4266623582525886\n",
      "1.2753484898558367\n",
      "1.1367211631371494\n",
      "1.0092597443906877\n",
      "0.8988468095327754\n",
      "0.8120302168326093\n",
      "0.7389066513939463\n",
      "0.6851438188424628\n",
      "0.6351721675551074\n",
      "0.5906239776323822\n",
      "0.5475024825896955\n",
      "0.5052592410490735\n",
      "0.4639267345882918\n",
      "0.4235407472920222\n",
      "0.38414191818545335\n",
      "0.34577815876981055\n",
      "0.3085085365994292\n",
      "0.26837591016565043\n",
      "0.23226036582895332\n",
      "0.19715659519783385\n",
      "0.16309459869207255\n",
      "0.13011514284437972\n",
      "0.09828656563215234\n",
      "0.06776420418092352\n",
      "0.03910155323682584\n",
      "0.017346769956780375\n",
      "0.009385106117457654\n",
      "0.0018813314833808865\n",
      "0.0018813314833808865\n",
      "0.0018813314833808865\n",
      "0.0018813314833808865\n",
      "0.0018813314833808865\n",
      "0.0018813314833808865\n",
      "0.0018813314833808865\n",
      "0.0018813314833808865\n",
      "0.0018813314833808865\n",
      "0.0018813314833808865\n",
      "0.0018813314833808865\n",
      "0.0018813314833808865\n",
      "0.0018813314833808865\n",
      "0.0018813314833808865\n",
      "0.0018813314833808865\n",
      "0.0018813314833808865\n",
      "0.0018813314833808865\n",
      "0.0018813314833808865\n",
      "0.0018813314833808865\n",
      "0.0018813314833808865\n",
      "0.0018813314833808865\n",
      "0.0018813314833808865\n",
      "0.0018813314833808865\n",
      "0.0018813314833808865\n",
      "0.0018813314833808865\n",
      "0.0018813314833808865\n",
      "0.0018813314833808865\n",
      "0.0018813314833808865\n",
      "0.0018813314833808865\n",
      "0.0018813314833808865\n",
      "0.0018813314833808865\n",
      "0.0018813314833808865\n",
      "0.0018813314833808865\n",
      "0.0018813314833808865\n",
      "0.0018813314833808865\n",
      "0.0018813314833808865\n",
      "0.0018813314833808865\n",
      "0.0018813314833808865\n",
      "0.0018813314833808865\n",
      "0.0018813314833808865\n",
      "0.0018813314833808865\n",
      "0.0018813314833808865\n",
      "0.0018813314833808865\n",
      "0.0018813314833808865\n",
      "0.0018813314833808865\n",
      "0.0018813314833808865\n",
      "0.0018813314833808865\n",
      "0.0018813314833808865\n",
      "0.0018813314833808865\n",
      "0.0018813314833808865\n",
      "0.0018813314833808865\n",
      "0.0018813314833808865\n",
      "0.0018813314833808865\n",
      "0.0018813314833808865\n",
      "0.0018813314833808865\n",
      "0.0018813314833808865\n",
      "0.0018813314833808865\n",
      "0.0018813314833808865\n",
      "0.0018813314833808865\n",
      "0.0018813314833808865\n",
      "0.0018813314833808865\n",
      "0.0018813314833808865\n",
      "0.0018813314833808865\n",
      "0.0018813314833808865\n",
      "0.0018813314833808865\n",
      "0.0018813314833808865\n",
      "0.0018813314833808865\n",
      "0.0018813314833808865\n",
      "0.0018813314833808865\n",
      "0.0018813314833808865\n",
      "0.0018813314833808865\n",
      "0.0018813314833808865\n",
      "0.0018813314833808865\n",
      "0.0018813314833808865\n",
      "0.0018813314833808865\n",
      "0.0018813314833808865\n",
      "0.0018813314833808865\n",
      "0.0018813314833808865\n",
      "0.0018813314833808865\n",
      "0.0018813314833808865\n",
      "0.0018813314833808865\n",
      "0.0018813314833808865\n",
      "0.0018813314833808865\n",
      "0.0018813314833808865\n",
      "0.0018813314833808865\n",
      "0.0018813314833808865\n",
      "0.0018813314833808865\n",
      "0.0018813314833808865\n",
      "0.0018813314833808865\n",
      "0.0018813314833808865\n",
      "0.0018813314833808865\n",
      "0.0018813314833808865\n",
      "0.0018813314833808865\n",
      "0.0018813314833808865\n",
      "0.0018813314833808865\n",
      "0.0018813314833808865\n",
      "0.0018813314833808865\n",
      "0.0018813314833808865\n",
      "0.0018813314833808865\n",
      "0.0018813314833808865\n",
      "0.0018813314833808865\n",
      "0.0018813314833808865\n",
      "0.0018813314833808865\n",
      "0.0018813314833808865\n",
      "0.0018813314833808865\n",
      "0.0018813314833808865\n",
      "0.0018813314833808865\n",
      "0.0018813314833808865\n",
      "0.0018813314833808865\n",
      "0.0018813314833808865\n",
      "0.0018813314833808865\n",
      "0.0018813314833808865\n",
      "0.0018813314833808865\n",
      "0.0018813314833808865\n",
      "0.0018813314833808865\n",
      "0.0018813314833808865\n",
      "0.0018813314833808865\n",
      "0.0018813314833808865\n",
      "0.0018813314833808865\n",
      "0.0018813314833808865\n",
      "0.0018813314833808865\n",
      "0.0018813314833808865\n",
      "0.0018813314833808865\n",
      "0.0018813314833808865\n",
      "0.0018813314833808865\n",
      "0.0018813314833808865\n",
      "0.0018813314833808865\n",
      "0.0018813314833808865\n",
      "0.0018813314833808865\n",
      "0.0018813314833808865\n",
      "0.0018813314833808865\n",
      "0.0018813314833808865\n",
      "0.0018813314833808865\n",
      "0.0018813314833808865\n",
      "0.0018813314833808865\n",
      "0.0018813314833808865\n",
      "0.0018813314833808865\n",
      "0.0018813314833808865\n",
      "0.0018813314833808865\n",
      "0.0018813314833808865\n",
      "0.0018813314833808865\n",
      "0.0018813314833808865\n",
      "0.0018813314833808865\n",
      "0.0018813314833808865\n",
      "0.0018813314833808865\n",
      "0.0018813314833808865\n",
      "0.0018813314833808865\n",
      "0.0018813314833808865\n",
      "0.0018813314833808865\n",
      "0.0018813314833808865\n",
      "0.0018813314833808865\n",
      "0.0018813314833808865\n",
      "0.0018813314833808865\n",
      "0.0018813314833808865\n",
      "0.0018813314833808865\n",
      "0.0018813314833808865\n",
      "0.0018813314833808865\n",
      "0.0018813314833808865\n",
      "0.0018813314833808865\n",
      "0.0018813314833808865\n",
      "0.0018813314833808865\n"
     ]
    }
   ],
   "source": [
    "s = [rand(-90:90) rand(-90:90) rand(-90:90) rand(-90:90) rand(-90:90)]\n",
    "a = zeros(1,5)\n",
    "p = zeros(200,2)\n",
    "for i = 1:200\n",
    "    \n",
    "    println(norm(ccQuick(map(deg2rad, s), 1)[end,:] - [4.5 1]))\n",
    "    p[i,:] = ccQuick(map(deg2rad, s), 1)[end,:]    \n",
    "    \n",
    "    q = zeros(aSize)\n",
    "    for j = 1:243\n",
    "        action[1],action[2],action[3],action[4],action[5] = ind2sub((3,3,3,3,3),j)\n",
    "        action -=2\n",
    "        \n",
    "        q[j] += (ContReward(s) + γ*ValApprox(w,ContTrans(s,action)))\n",
    "    end\n",
    "    \n",
    "    #println(q)\n",
    "    \n",
    "    a[1],a[2],a[3],a[4],a[5] = ind2sub((3,3,3,3,3),findmax(q)[2])\n",
    "    a-= 2\n",
    "    #println(a)\n",
    "    s = ContTrans(s,a)\n",
    "end"
   ]
  },
  {
   "cell_type": "code",
   "execution_count": 26,
   "metadata": {
    "collapsed": false
   },
   "outputs": [
    {
     "data": {
      "image/png": "[encoded data removed]",
      "text/plain": [
       "Figure(PyObject <matplotlib.figure.Figure object at 0x11b34cf90>)"
      ]
     },
     "metadata": {},
     "output_type": "display_data"
    },
    {
     "data": {
      "text/plain": [
       "1-element Array{Any,1}:\n",
       " PyObject <matplotlib.lines.Line2D object at 0x11bdd4150>"
      ]
     },
     "execution_count": 26,
     "metadata": {},
     "output_type": "execute_result"
    }
   ],
   "source": [
    "using PyPlot\n",
    "plot(p[:,1], p[:,2], \"k\")"
   ]
  }
 ],
 "metadata": {
  "kernelspec": {
   "display_name": "Julia 0.3.11",
   "language": "julia",
   "name": "julia-0.3"
  },
  "language_info": {
   "file_extension": ".jl",
   "mimetype": "application/julia",
   "name": "julia",
   "version": "0.3.11"
  }
 },
 "nbformat": 4,
 "nbformat_minor": 0
}
