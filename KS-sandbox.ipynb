{
 "cells": [
  {
   "cell_type": "code",
   "execution_count": 9,
   "metadata": {
    "collapsed": false
   },
   "outputs": [],
   "source": [
    "using PyPlot\n",
    "#using PGFPlots \n",
    "#using Winston\n"
   ]
  },
  {
   "cell_type": "code",
   "execution_count": 132,
   "metadata": {
    "collapsed": false
   },
   "outputs": [
    {
     "name": "stdout",
     "output_type": "stream",
     "text": [
      "Import successful: sim.jl\n",
      "Import successful: floopMap.jl\n"
     ]
    }
   ],
   "source": [
    "include(\"sim.jl\"); #include the simulator \n",
    "include(\"floopMap.jl\") #include mapping"
   ]
  },
  {
   "cell_type": "code",
   "execution_count": 152,
   "metadata": {
    "collapsed": false
   },
   "outputs": [
    {
     "name": "stdout",
     "output_type": "stream",
     "text": [
      "state = ind2eval(stateInd,stateMap) => {60,-50,-10,-5,-55}\n",
      "action = ind2eval(actionInd,actionMap) => {-5,-5,-5,0,-5}\n",
      "newState = ind2eval(newStateInd,stateMap) => {55,-55,-15,-5,-60}\n",
      "Generated Arm wth 5 segments\n",
      "Generated Arm wth 5 segments\n",
      "no self collsions founds\n",
      "no obstacle collsions founds\n"
     ]
    },
    {
     "data": {
      "image/png": "[encoded data removed]",
      "text/plain": [
       "Figure(PyObject <matplotlib.figure.Figure object at 0x000000003A3C2FD0>)"
      ]
     },
     "metadata": {},
     "output_type": "display_data"
    },
    {
     "data": {
      "text/plain": [
       "(-2.5,2.5)"
      ]
     },
     "execution_count": 152,
     "metadata": {},
     "output_type": "execute_result"
    }
   ],
   "source": [
    "#defne parameters\n",
    "nSeg=5 #number of segments\n",
    "step=5 #angle step \n",
    "res=10 #resolution of segment \n",
    "l=1/res #set subsegment lenght so that segment lenght =1\n",
    "\n",
    "#make maps\n",
    "stateMap=makeMap([-60:step:60], nSeg)\n",
    "actionMap=makeMap([-step:step:step], nSeg)\n",
    "\n",
    "#set state\n",
    "stateInd=rand(1:stateMap.nSize)\n",
    "actionInd=rand(1:actionMap.nSize)\n",
    "\n",
    "@show state=ind2eval(stateInd, stateMap)\n",
    "@show action=ind2eval(actionInd, actionMap)\n",
    "\n",
    "\n",
    "newStateInd=detTrans(stateInd, actionInd, stateMap, actionMap)\n",
    "@show newState=ind2eval(newStateInd, stateMap)\n",
    "\n",
    "##make arm \n",
    "(arm,edges,t)=ccArm2(map(deg2rad, state), res, l);\n",
    "drawArm(arm, edges, res)\n",
    "\n",
    "(arm,edges,t)=ccArm2(map(deg2rad, newState), res, l);\n",
    "drawArm(arm, edges, res)\n",
    "\n",
    "\n",
    "\n",
    "\n",
    "##check self collide\n",
    "col=selfCollide(arm, .060)\n",
    "\n",
    "##make obs\n",
    "c=[1.5 -.5]\n",
    "r=.2\n",
    "drawObs(Obs(c, r))\n",
    "#check obs collision\n",
    "obsCollide(arm, Obs(c, r), 1.1)\n",
    "\n",
    "#ploted for style\n",
    "pmax=maximum(abs(arm))*1.1\n",
    "#plot(p[:, 1],p[:, 2])\n",
    "xlabel(\"x\")\n",
    "ylabel(\"y\")\n",
    "xlim(-0, 5)\n",
    "ylim(-2.5, 2.5)\n",
    "#savefig(\"arm.png\")"
   ]
  },
  {
   "cell_type": "code",
   "execution_count": 122,
   "metadata": {
    "collapsed": false
   },
   "outputs": [
    {
     "name": "stdout",
     "output_type": "stream",
     "text": [
      "stateMap.nSize => 9765625\n",
      "actionMap.nSize => 243\n"
     ]
    },
    {
     "data": {
      "text/plain": [
       "243"
      ]
     },
     "execution_count": 122,
     "metadata": {},
     "output_type": "execute_result"
    }
   ],
   "source": [
    "@show stateMap.nSize\n",
    "@show actionMap.nSize"
   ]
  },
  {
   "cell_type": "code",
   "execution_count": 129,
   "metadata": {
    "collapsed": false
   },
   "outputs": [
    {
     "data": {
      "text/plain": [
       "3-element Array{Float64,1}:\n",
       " 0.741431 \n",
       " 0.112983 \n",
       " 0.0110828"
      ]
     },
     "execution_count": 129,
     "metadata": {},
     "output_type": "execute_result"
    }
   ],
   "source": [
    "rand(3)"
   ]
  },
  {
   "cell_type": "code",
   "execution_count": 23,
   "metadata": {
    "collapsed": false
   },
   "outputs": [
    {
     "data": {
      "text/plain": [
       "(25,25,25,25,25)"
      ]
     },
     "execution_count": 23,
     "metadata": {},
     "output_type": "execute_result"
    }
   ],
   "source": [
    "a=int64(ones(5)*25)\n",
    "b=tuple(a...)"
   ]
  },
  {
   "cell_type": "code",
   "execution_count": 88,
   "metadata": {
    "collapsed": false
   },
   "outputs": [
    {
     "ename": "LoadError",
     "evalue": "`sub2ind` has no method matching sub2ind(::(Int64,Int64,Int64,Int64,Int64), ::(Int64,Int64,Int64,Int64,Int64))\nwhile loading In[88], in expression starting on line 1",
     "output_type": "error",
     "traceback": [
      "`sub2ind` has no method matching sub2ind(::(Int64,Int64,Int64,Int64,Int64), ::(Int64,Int64,Int64,Int64,Int64))\nwhile loading In[88], in expression starting on line 1",
      ""
     ]
    }
   ],
   "source": [
    "sub2ind((25, 25, 25, 25, 25), (15, 2, 1, 1, 1))"
   ]
  },
  {
   "cell_type": "code",
   "execution_count": null,
   "metadata": {
    "collapsed": false
   },
   "outputs": [],
   "source": [
    "nStates=41^n\n",
    "value=zeros(nStates)\n",
    "tic()\n",
    "for i=1:nStates\n",
    "    value[i]+=1\n",
    "end\n",
    "toc()"
   ]
  },
  {
   "cell_type": "code",
   "execution_count": null,
   "metadata": {
    "collapsed": false
   },
   "outputs": [],
   "source": [
    "function smash(e)\n",
    "\tn=size(e,1)\n",
    "\te=e'\n",
    "\t#checks for colisions \n",
    "\tfor i=1:(n-2)\n",
    "\t\tfor j=(i+1):(n-1)\n",
    "\t\t\tt=inv(hcat(e[:,i+1]-e[:,i], e[:,j+1]-e[:,j]))*e[:,i]-e[:,j]\n",
    "\t\t\tcol=vcat(t.<0,t.>1 )\n",
    "\t\t\tif norm(col)==0\n",
    "\t\t\t\treturn e[:,i]+t[1]*(e[:,i+1]-e[:,i])\n",
    "\t\t\tend\n",
    "\t\tend\t\n",
    "\tend\n",
    "    return 0\n",
    "end"
   ]
  },
  {
   "cell_type": "code",
   "execution_count": null,
   "metadata": {
    "collapsed": false
   },
   "outputs": [],
   "source": [
    "smash(e)"
   ]
  },
  {
   "cell_type": "code",
   "execution_count": null,
   "metadata": {
    "collapsed": false
   },
   "outputs": [],
   "source": [
    "#defne parameters\n",
    "l=1 #segment len\n",
    "n=10 #number of segments \n",
    "res=1000\n",
    "#k=[.4 -1 1 1 1]\n",
    "gain=2\n",
    "pdif=rand(n)*gain\n",
    "#pdif=ones(n)*1\n",
    "(p,t)=cantArm(pdif, res, l, 1);\n",
    "gcol=[\"b\",\"r\", \"g\", \"m\", \"c\", \"b\",\"r\", \"g\", \"m\", \"c\"]\n",
    "plot([p[end,1]],[p[end, 2]], \"k*\")\n",
    "#plot([p[:,1]],[p[:, 2]], \"k\")\n",
    "for i=1:n\n",
    "    inx=(i-1)*res+1\n",
    "    plot(p[inx:inx+res, 1],p[inx:inx+res, 2], gcol[i])\n",
    "end\n",
    "#plot(p[:, 1],p[:, 2])\n",
    "xlabel(\"x\")\n",
    "ylabel(\"y\")\n",
    "#xlim(0, 13)\n",
    "#ylim(-3, 3 )\n",
    "#savefig(\"arm.png\")"
   ]
  },
  {
   "cell_type": "code",
   "execution_count": null,
   "metadata": {
    "collapsed": false
   },
   "outputs": [],
   "source": []
  },
  {
   "cell_type": "code",
   "execution_count": null,
   "metadata": {
    "collapsed": false
   },
   "outputs": [],
   "source": [
    "function TestccSeg(k, res, l=1)\n",
    "    t=linspace(0, k*l, res+1) #calcuate angle change\n",
    "    p=zeros(res+1, 2)\n",
    "    y=zeros(res+1)\n",
    "    for i=1:res \n",
    "        p[i+1, 1]=p[i, 1]+(sin(t[i+1])-sin(t[i]))/k #update x \n",
    "        p[i+1, 2]=p[i, 2]+(-cos(t[i+1])+cos(t[i]))/k #update y\n",
    "    end\n",
    "    return (p[:, 1], p[:, 2], t[end])\n",
    "end"
   ]
  },
  {
   "cell_type": "code",
   "execution_count": null,
   "metadata": {
    "collapsed": false
   },
   "outputs": [],
   "source": [
    "(x, y, t)=ccSeg(5, 100, 1)\n",
    "plot(x, y)"
   ]
  },
  {
   "cell_type": "code",
   "execution_count": null,
   "metadata": {
    "collapsed": false
   },
   "outputs": [],
   "source": [
    "plot(t,\"k*\")\n"
   ]
  },
  {
   "cell_type": "code",
   "execution_count": null,
   "metadata": {
    "collapsed": false
   },
   "outputs": [],
   "source": []
  },
  {
   "cell_type": "code",
   "execution_count": null,
   "metadata": {
    "collapsed": false
   },
   "outputs": [],
   "source": [
    "x=[0:.1:1]\n",
    "y=zeros(length(x))\n",
    "t=zeros(length(x))\n",
    "for i=1:length(x)\n",
    "    y[i]=deflec(x[i], 1)\n",
    "    t[i]=curv(x[i], 1)\n",
    "end\n",
    "plot(x,y)"
   ]
  },
  {
   "cell_type": "code",
   "execution_count": null,
   "metadata": {
    "collapsed": false
   },
   "outputs": [],
   "source": []
  },
  {
   "cell_type": "code",
   "execution_count": null,
   "metadata": {
    "collapsed": false
   },
   "outputs": [],
   "source": []
  },
  {
   "cell_type": "code",
   "execution_count": null,
   "metadata": {
    "collapsed": false
   },
   "outputs": [],
   "source": []
  },
  {
   "cell_type": "code",
   "execution_count": null,
   "metadata": {
    "collapsed": false
   },
   "outputs": [],
   "source": []
  },
  {
   "cell_type": "code",
   "execution_count": null,
   "metadata": {
    "collapsed": true
   },
   "outputs": [],
   "source": []
  },
  {
   "cell_type": "code",
   "execution_count": null,
   "metadata": {
    "collapsed": true
   },
   "outputs": [],
   "source": []
  }
 ],
 "metadata": {
  "kernelspec": {
   "display_name": "Julia 0.3.11",
   "language": "julia",
   "name": "julia-0.3"
  },
  "language_info": {
   "file_extension": ".jl",
   "mimetype": "application/julia",
   "name": "julia",
   "version": "0.3.11"
  }
 },
 "nbformat": 4,
 "nbformat_minor": 0
}
