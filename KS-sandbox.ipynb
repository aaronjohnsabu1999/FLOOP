{
 "cells": [
  {
   "cell_type": "code",
   "execution_count": null,
   "metadata": {
    "collapsed": false
   },
   "outputs": [],
   "source": [
    "using PyPlot\n",
    "include(\"ccm.jl\") #include the constant curvature model "
   ]
  },
  {
   "cell_type": "code",
   "execution_count": null,
   "metadata": {
    "collapsed": false
   },
   "outputs": [],
   "source": [
    "function drawArm(k, l)\n",
    "    #check if we have enough curvature points\n",
    "    n=length(k)\n",
    "    \n",
    "    #init segments cords\n",
    "    p=zeros(n+1, 3) #[x, y, θ]\n",
    "    for i=1:n #each segment, need 6 sets of points \n",
    "        p[i+1, 3]=p[i, 3]+l*k[i] #update angle \n",
    "        p[i+1, 1]=p[i, 1]+(sin(p[i+1, 3])-sin(p[i,3]))/k[i] #update x \n",
    "        p[i+1, 2]=p[i, 2]+(-cos(p[i+1, 3])+cos(p[i,3]))/k[i] #update y\n",
    "    end\n",
    "    return p\n",
    "end\n"
   ]
  },
  {
   "cell_type": "code",
   "execution_count": null,
   "metadata": {
    "collapsed": false
   },
   "outputs": [],
   "source": [
    "#defne parameters\n",
    "l=.1 #segment len\n",
    "n=10 #number of segments \n",
    "#k=[.4 -1 1 1 1]\n",
    "k=rand(n)*10-5\n",
    "p=drawArm(k, l)\n",
    "hold(\"on\")\n",
    "for i=1:n\n",
    "    plot(p[i:i+1, 1],p[i:i+1, 2])\n",
    "end\n",
    "plot(p[end, 1],p[end, 2], \"*\")\n",
    "xlabel(\"x\")\n",
    "ylabel(\"y\")"
   ]
  },
  {
   "cell_type": "code",
   "execution_count": null,
   "metadata": {
    "collapsed": false
   },
   "outputs": [],
   "source": []
  },
  {
   "cell_type": "code",
   "execution_count": null,
   "metadata": {
    "collapsed": true
   },
   "outputs": [],
   "source": []
  }
 ],
 "metadata": {
  "kernelspec": {
   "display_name": "Julia 0.3.11",
   "language": "julia",
   "name": "julia-0.3"
  },
  "language_info": {
   "file_extension": ".jl",
   "mimetype": "application/julia",
   "name": "julia",
   "version": "0.3.11"
  }
 },
 "nbformat": 4,
 "nbformat_minor": 0
}
