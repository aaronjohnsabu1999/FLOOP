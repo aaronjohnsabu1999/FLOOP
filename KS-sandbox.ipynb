{
 "cells": [
  {
   "cell_type": "code",
   "execution_count": 86,
   "metadata": {
    "collapsed": false
   },
   "outputs": [],
   "source": [
    "using PGFPlots \n",
    "#using Winston\n"
   ]
  },
  {
   "cell_type": "code",
   "execution_count": 138,
   "metadata": {
    "collapsed": false
   },
   "outputs": [
    {
     "data": {
      "text/plain": [
       "fwdKin (generic function with 1 method)"
      ]
     },
     "execution_count": 138,
     "metadata": {},
     "output_type": "execute_result"
    }
   ],
   "source": [
    "include(\"sim.jl\"); #include the simulator "
   ]
  },
  {
   "cell_type": "code",
   "execution_count": 140,
   "metadata": {
    "collapsed": false
   },
   "outputs": [],
   "source": [
    "#defne parameters\n",
    "l=1 #segment len\n",
    "n=10 #number of segments \n",
    "res=30\n",
    "#k=[.4 -1 1 1 1]\n",
    "gain=10\n",
    "#pdif=rand(n)*gain-gain/2\n",
    "pdif=ones(n)*1\n",
    "p=cantArm(pdif, l, 1, res);\n",
    "gcol=[\"b\",\"r\", \"g\", \"m\", \"c\", \"b\",\"r\", \"g\", \"m\", \"c\"]\n",
    "plot([p[end,1]],[p[end, 2]], \"k*\")\n",
    "for i=1:n\n",
    "    inx=(i-1)*res+1\n",
    "    oplot(p[inx:inx+res, 1],p[inx:inx+res, 2], gcol[i])\n",
    "end\n",
    "#plot(p[:, 1],p[:, 2])\n",
    "xlabel(\"x\")\n",
    "ylabel(\"y\")\n",
    "#xlim(0, 50)\n",
    "#ylim(0, 50)\n",
    "savefig(\"arm.png\")"
   ]
  },
  {
   "cell_type": "code",
   "execution_count": 141,
   "metadata": {
    "collapsed": false
   },
   "outputs": [
    {
     "data": {
      "image/png": "[encoded data removed]",
      "text/plain": [
       "Winston.FramedPlot(...)"
      ]
     },
     "execution_count": 141,
     "metadata": {},
     "output_type": "execute_result"
    }
   ],
   "source": [
    "plot(p[:,3])\n"
   ]
  },
  {
   "cell_type": "code",
   "execution_count": 81,
   "metadata": {
    "collapsed": true
   },
   "outputs": [],
   "source": []
  },
  {
   "cell_type": "code",
   "execution_count": 88,
   "metadata": {
    "collapsed": false
   },
   "outputs": [
    {
     "data": {
      "text/plain": [
       "10-element Array{ASCIIString,1}:\n",
       " \"b*\"\n",
       " \"r*\"\n",
       " \"g*\"\n",
       " \"m*\"\n",
       " \"c*\"\n",
       " \"b*\"\n",
       " \"r*\"\n",
       " \"g*\"\n",
       " \"m*\"\n",
       " \"c*\""
      ]
     },
     "execution_count": 88,
     "metadata": {},
     "output_type": "execute_result"
    }
   ],
   "source": []
  },
  {
   "cell_type": "code",
   "execution_count": null,
   "metadata": {
    "collapsed": true
   },
   "outputs": [],
   "source": []
  }
 ],
 "metadata": {
  "kernelspec": {
   "display_name": "Julia 0.3.10",
   "language": "julia",
   "name": "julia-0.3"
  },
  "language_info": {
   "file_extension": ".jl",
   "mimetype": "application/julia",
   "name": "julia",
   "version": "0.4.1"
  }
 },
 "nbformat": 4,
 "nbformat_minor": 0
}
